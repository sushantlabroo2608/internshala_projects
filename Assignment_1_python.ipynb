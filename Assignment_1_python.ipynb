{
  "cells": [
    {
      "cell_type": "code",
      "execution_count": null,
      "id": "a10f6c31-7547-4146-a80b-20633dd19bbe",
      "metadata": {
        "id": "a10f6c31-7547-4146-a80b-20633dd19bbe",
        "outputId": "35c22b70-04de-4b50-de0b-d1a8d0c2717e"
      },
      "outputs": [
        {
          "name": "stdin",
          "output_type": "stream",
          "text": [
            "Enter first number:  44\n",
            "Enter second number:  34\n",
            "Enter third number:  47\n"
          ]
        },
        {
          "name": "stdout",
          "output_type": "stream",
          "text": [
            "The largest of three numbers is:  47.0\n"
          ]
        }
      ],
      "source": [
        "# Task 1: Write a Python program to find the largest of three numbers.\n",
        "\n",
        "n1 = float(input(\"Enter first number: \"))\n",
        "n2 = float(input(\"Enter second number: \"))\n",
        "n3 = float(input(\"Enter third number: \"))\n",
        "\n",
        "if (n1 >= n2 and n1 >= n3):\n",
        "  print(\"The largest of three numbers is: \",n1)\n",
        "elif (n2 >= n1 and n2 >= n3):\n",
        "  print(\"The largest of three numbers is: \",n2)\n",
        "else:\n",
        "  print(\"The largest of three numbers is: \",n3)"
      ]
    },
    {
      "cell_type": "code",
      "execution_count": null,
      "id": "cb4ef266-d60e-4b7e-ae15-b4ae54cc28a8",
      "metadata": {
        "id": "cb4ef266-d60e-4b7e-ae15-b4ae54cc28a8",
        "outputId": "e27032df-a06b-44e2-974d-ac6432872407"
      },
      "outputs": [
        {
          "name": "stdin",
          "output_type": "stream",
          "text": [
            "Enter any number:  36\n"
          ]
        },
        {
          "name": "stdout",
          "output_type": "stream",
          "text": [
            "36 is an even number!\n"
          ]
        }
      ],
      "source": [
        "# Task 2: Create a program that checks if a number is even or odd.\n",
        "\n",
        "n = int(input(\"Enter any number: \"))\n",
        "\n",
        "if ((n % 2) == 0):\n",
        "  print(n,\"is an even number!\")\n",
        "else:\n",
        "  print(n,\"is a odd number!\")"
      ]
    },
    {
      "cell_type": "code",
      "execution_count": null,
      "id": "3e0505da-d70f-4280-9527-4a9dd7919168",
      "metadata": {
        "id": "3e0505da-d70f-4280-9527-4a9dd7919168",
        "outputId": "d8fdbda7-e746-42da-9b5a-ce43887b1fe1"
      },
      "outputs": [
        {
          "name": "stdout",
          "output_type": "stream",
          "text": [
            "1 2 3 4 5 6 8 9 10 11 12 13 15 16 17 18 19 20 22 23 24 25 26 27 29 30 31 32 33 34 36 37 38 39 40 41 43 44 45 46 47 48 50 51 52 53 54 55 57 58 59 60 61 62 64 65 66 67 68 69 71 72 73 74 75 76 78 79 80 81 82 83 85 86 87 88 89 90 92 93 94 95 96 97 99 100 "
          ]
        }
      ],
      "source": [
        "# Task 3: Write a program that prints numbers from 1 to 100 but skips numbers divisible by 7\n",
        "\n",
        "for i in range(1,101):\n",
        "  if (i % 7 == 0):\n",
        "    continue\n",
        "  print(i, end =' ')"
      ]
    },
    {
      "cell_type": "code",
      "execution_count": null,
      "id": "c0c6479d-94ba-40c1-8e64-8945da516606",
      "metadata": {
        "id": "c0c6479d-94ba-40c1-8e64-8945da516606",
        "outputId": "61416dc9-0ec1-42d1-fca4-cccbc07155e3"
      },
      "outputs": [
        {
          "name": "stdin",
          "output_type": "stream",
          "text": [
            "Enter a number:  5\n"
          ]
        },
        {
          "name": "stdout",
          "output_type": "stream",
          "text": [
            "5 x 1 = 5\n",
            "5 x 2 = 10\n",
            "5 x 3 = 15\n",
            "5 x 4 = 20\n",
            "5 x 5 = 25\n",
            "5 x 6 = 30\n",
            "5 x 7 = 35\n",
            "5 x 8 = 40\n",
            "5 x 9 = 45\n",
            "5 x 10 = 50\n"
          ]
        }
      ],
      "source": [
        "# Task 4: Write a program to print the multiplication table of a given number\n",
        "\n",
        "n = int(input(\"Enter a number: \"))\n",
        "for i in range(1,11):\n",
        "  print(n,\"x\",i,\"=\",n*i)"
      ]
    },
    {
      "cell_type": "code",
      "execution_count": null,
      "id": "a5e772fd-e001-41d0-bf59-a6e7f7cefdf6",
      "metadata": {
        "id": "a5e772fd-e001-41d0-bf59-a6e7f7cefdf6",
        "outputId": "b614b041-6133-4ba9-a3c5-f24adb651d2d"
      },
      "outputs": [
        {
          "name": "stdin",
          "output_type": "stream",
          "text": [
            "Enter the range:  6\n"
          ]
        },
        {
          "name": "stdout",
          "output_type": "stream",
          "text": [
            "*\n",
            "**\n",
            "***\n",
            "****\n",
            "*****\n",
            "******\n"
          ]
        }
      ],
      "source": [
        "# Task 5: Write a program that uses a nested loop to print a right-angled triangle pattern of stars based on user input.\n",
        "\n",
        "user_input = int(input(\"Enter the range: \"))\n",
        "for a in range(1,user_input+1):\n",
        "  for j in range(a):\n",
        "    print(\"*\",end=\"\")\n",
        "  print()"
      ]
    },
    {
      "cell_type": "code",
      "execution_count": 1,
      "id": "157297b4-fb95-495e-8eed-bb649c6198ae",
      "metadata": {
        "colab": {
          "base_uri": "https://localhost:8080/"
        },
        "id": "157297b4-fb95-495e-8eed-bb649c6198ae",
        "outputId": "06f40b44-5a53-4de8-f181-6400e5d84eac"
      },
      "outputs": [
        {
          "output_type": "stream",
          "name": "stdout",
          "text": [
            "1\n",
            "12\n",
            "123\n",
            "1234\n"
          ]
        }
      ],
      "source": [
        "# Task 6: Create a Python program that prints the following pattern using nested\n",
        "# loops:\n",
        "# 1\n",
        "# 12\n",
        "# 123\n",
        "# 1234\n",
        "\n",
        "for i in range(1,5):\n",
        "  for a in range(1,i+1):\n",
        "    print(a,end=\"\")\n",
        "  print()"
      ]
    },
    {
      "cell_type": "code",
      "execution_count": null,
      "id": "f0516711-c2a3-4dfb-94e6-82f7fb52f771",
      "metadata": {
        "id": "f0516711-c2a3-4dfb-94e6-82f7fb52f771",
        "outputId": "ea80e222-ab1f-41c5-c8b4-c90125117a71"
      },
      "outputs": [
        {
          "name": "stdin",
          "output_type": "stream",
          "text": [
            "Enter a character:  g\n"
          ]
        },
        {
          "name": "stdout",
          "output_type": "stream",
          "text": [
            "g It is a consonant!\n"
          ]
        }
      ],
      "source": [
        "# Task 7: Create a Python program to check if a character entered by the user is a vowel or consonant.\n",
        "\n",
        "character_name = input(\"Enter a character: \")\n",
        "if len(character_name) == 1 and character_name.isalpha():\n",
        "  if (character_name == 'a' or character_name =='A'):\n",
        "    print(character_name,\"It is a vowel!\")\n",
        "  elif (character_name == 'e' or character_name == 'E'):\n",
        "    print(character_name,\"It is a vowel!\")\n",
        "  elif (character_name == 'i' or character_name == 'I'):\n",
        "    print(character_name,\"It is a vowel!\")\n",
        "  elif (character_name == 'o' or character_name == 'O'):\n",
        "    print(character_name,\"It is a vowel!\")\n",
        "  elif (character_name == 'u' or character_name == 'U'):\n",
        "    print(character_name,\"It is a vowel!\")\n",
        "  else:\n",
        "    print(character_name,\"It is a consonant!\")\n",
        "else:\n",
        "  print(character_name,\"Not a valid character!\")"
      ]
    },
    {
      "cell_type": "code",
      "execution_count": null,
      "id": "31aab01a-5227-4755-9a7a-7eefdeb748cd",
      "metadata": {
        "id": "31aab01a-5227-4755-9a7a-7eefdeb748cd",
        "outputId": "196d81ad-43cd-4579-8d21-041e7bb9d83e"
      },
      "outputs": [
        {
          "name": "stdout",
          "output_type": "stream",
          "text": [
            "\n",
            "*\n",
            "***\n",
            "*****\n",
            "*******\n",
            "*********\n",
            "*******\n",
            "*****\n",
            "***\n",
            "*\n"
          ]
        }
      ],
      "source": [
        "# Task 8. Write a Python program that generates a diamond pattern of stars For n = 5, the output should look like:\n",
        "'''\n",
        "*\n",
        "***\n",
        "*****\n",
        "*******\n",
        "*********\n",
        "*******\n",
        "*****\n",
        "***\n",
        "*\n",
        "'''\n",
        "for i in range(6):\n",
        "  print(\"*\" *(2*i-1))\n",
        "for a in range(4,0,-1):\n",
        "  print(\"*\"*(2*a-1))"
      ]
    },
    {
      "cell_type": "code",
      "execution_count": null,
      "id": "e78861b4-bce2-4b49-a8fb-5e0abb7b2afb",
      "metadata": {
        "id": "e78861b4-bce2-4b49-a8fb-5e0abb7b2afb",
        "outputId": "f7006a85-3302-4344-c597-fd3afda75c7a"
      },
      "outputs": [
        {
          "name": "stdin",
          "output_type": "stream",
          "text": [
            "Enter a number:  8351\n"
          ]
        },
        {
          "name": "stdout",
          "output_type": "stream",
          "text": [
            "reversed number is: 1538\n"
          ]
        }
      ],
      "source": [
        "# Task 9: Write a Python program to reverse the digits of a given number.\n",
        "\n",
        "n = int(input(\"Enter a number: \"))\n",
        "reverse = 0\n",
        "while n > 0:\n",
        "  last_digit = n % 10\n",
        "  reverse = reverse * 10 + last_digit\n",
        "  n = n // 10\n",
        "print(\"reversed number is:\",reverse)"
      ]
    },
    {
      "cell_type": "code",
      "execution_count": null,
      "id": "a70dadea-3280-4850-a18a-fef9d0f3e953",
      "metadata": {
        "id": "a70dadea-3280-4850-a18a-fef9d0f3e953",
        "outputId": "52ac141c-2abe-44a8-a59f-74f4cace2765"
      },
      "outputs": [
        {
          "name": "stdout",
          "output_type": "stream",
          "text": [
            "1\n",
            "121\n",
            "12321\n",
            "1234321\n",
            "123454321\n"
          ]
        }
      ],
      "source": [
        "# Task 10. Create a Python program that generates the following pyramid pattern:\n",
        "\"\"\"\n",
        "1\n",
        "121\n",
        "12321\n",
        "1234321\n",
        "123454321\n",
        "\"\"\"\n",
        "for i in range(1, 6):\n",
        "    for j in range(1, i + 1):\n",
        "        print(j, end=\"\")\n",
        "    for j in range(i-1,0,-1):\n",
        "      print(j,end=\"\")\n",
        "    print()"
      ]
    },
    {
      "cell_type": "code",
      "execution_count": null,
      "id": "8528c280-7b5e-4a59-95c2-abb8047330b8",
      "metadata": {
        "id": "8528c280-7b5e-4a59-95c2-abb8047330b8"
      },
      "outputs": [],
      "source": []
    }
  ],
  "metadata": {
    "kernelspec": {
      "display_name": "Python 3 (ipykernel)",
      "language": "python",
      "name": "python3"
    },
    "language_info": {
      "codemirror_mode": {
        "name": "ipython",
        "version": 3
      },
      "file_extension": ".py",
      "mimetype": "text/x-python",
      "name": "python",
      "nbconvert_exporter": "python",
      "pygments_lexer": "ipython3",
      "version": "3.13.5"
    },
    "colab": {
      "provenance": []
    }
  },
  "nbformat": 4,
  "nbformat_minor": 5
}