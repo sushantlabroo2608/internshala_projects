{
  "nbformat": 4,
  "nbformat_minor": 0,
  "metadata": {
    "colab": {
      "provenance": []
    },
    "kernelspec": {
      "name": "python3",
      "display_name": "Python 3"
    },
    "language_info": {
      "name": "python"
    }
  },
  "cells": [
    {
      "cell_type": "code",
      "execution_count": 3,
      "metadata": {
        "colab": {
          "base_uri": "https://localhost:8080/"
        },
        "id": "Hbjtp9Xjuqos",
        "outputId": "8b434eca-1f7a-458d-e55d-3031ca9bd82f"
      },
      "outputs": [
        {
          "output_type": "stream",
          "name": "stdout",
          "text": [
            "Enter a string: hello WORLD\n",
            "Vowels are:  3\n",
            "Consonants are:  7\n"
          ]
        }
      ],
      "source": [
        "# Task 1 : Write a function to count the number of vowels and consonants\n",
        "#          in a given string.\n",
        "\n",
        "def count_vowel_consonant(st):\n",
        "\n",
        "  vowels = {'a','e','i','o','u'}\n",
        "  count_vowels = 0\n",
        "  count_consonants = 0\n",
        "  for char in st:\n",
        "     if char.lower() in vowels:\n",
        "      count_vowels += 1\n",
        "     elif char.isalpha():\n",
        "      count_consonants += 1\n",
        "  return count_vowels,count_consonants\n",
        "\n",
        "st = input(\"Enter a string: \")\n",
        "vowel,consonants = count_vowel_consonant(st)\n",
        "print(\"Vowels are: \",vowel)\n",
        "print(\"Consonants are: \",consonants)"
      ]
    },
    {
      "cell_type": "code",
      "source": [
        "# Task 2 :  Write a function to return the minimum and maximum elements\n",
        "#           from a tuple\n",
        "\n",
        "def min_max_tuple(t):\n",
        "  return min(t),max(t)\n",
        "\n",
        "input_tuple = (4,8,1,10,3,5)\n",
        "min_max_value = min_max_tuple(input_tuple)\n",
        "print(\"The minimum and maximum value in tuple is:\",min_max_value)"
      ],
      "metadata": {
        "id": "s375Tm2UvWox",
        "colab": {
          "base_uri": "https://localhost:8080/"
        },
        "outputId": "6eb825f4-8dc1-4dc4-bd4e-6eb52b7089ec"
      },
      "execution_count": null,
      "outputs": [
        {
          "output_type": "stream",
          "name": "stdout",
          "text": [
            "The minimum and maximum value in tuple is: (1, 10)\n"
          ]
        }
      ]
    },
    {
      "cell_type": "code",
      "source": [
        "# Task 3 : Write code to unpack the first two elements and\n",
        "#          the rest from a tuple of unknown length\n",
        "\n",
        "unpack_tuple = (2,\"red\",3,5,1,7,\"Python\",8,\"Task\")\n",
        "\n",
        "(first , second , *rest) = unpack_tuple\n",
        "\n",
        "print(\"The first element in tuple is:\",first)\n",
        "print(\"The second element in tuple is:\",second)\n",
        "print(\"The rest of the element in tuple is:\",rest)"
      ],
      "metadata": {
        "colab": {
          "base_uri": "https://localhost:8080/"
        },
        "id": "MsL3y2UgR5GN",
        "outputId": "11f5471d-a15c-423f-db7d-841a35fe3ef2"
      },
      "execution_count": null,
      "outputs": [
        {
          "output_type": "stream",
          "name": "stdout",
          "text": [
            "The first element in tuple is: 2\n",
            "The second element in tuple is: red\n",
            "The rest of the element in tuple is: [3, 5, 1, 7, 'Python', 8, 'Task']\n"
          ]
        }
      ]
    },
    {
      "cell_type": "code",
      "source": [
        "# Task 4 : Write a function that takes a string and\n",
        "#          returns the frequency of each word\n",
        "\n",
        "def frequency_word(statement):\n",
        "\n",
        "  statement = statement.lower()\n",
        "  words = statement.split()\n",
        "  frequency = {}\n",
        "\n",
        "  for key in words:\n",
        "    if key in frequency:\n",
        "      frequency[key] += 1\n",
        "    else:\n",
        "      frequency[key] = 1\n",
        "  return frequency\n",
        "\n",
        "task_string = input(\"Enter the string:\")\n",
        "print(frequency_word(task_string))"
      ],
      "metadata": {
        "colab": {
          "base_uri": "https://localhost:8080/"
        },
        "id": "nOjn4qcuTviD",
        "outputId": "bbb96772-07f1-4aa4-8b77-6411ff5e040e"
      },
      "execution_count": null,
      "outputs": [
        {
          "output_type": "stream",
          "name": "stdout",
          "text": [
            "Enter the string:Hello WORLD hello Python to the world\n",
            "{'hello': 2, 'world': 2, 'python': 1, 'to': 1, 'the': 1}\n"
          ]
        }
      ]
    },
    {
      "cell_type": "code",
      "source": [
        "# Task 5 : Write a function to find duplicate elements in a list.\n",
        "\n",
        "def duplicate_element(input_list):\n",
        "  single = set()\n",
        "  duplicate = set()\n",
        "\n",
        "  for i in input_list:\n",
        "    if i in single:\n",
        "      duplicate.add(i)\n",
        "    else:\n",
        "      single.add(i)\n",
        "  return list(duplicate)\n",
        "\n",
        "task_list = [1, 2, 5, 2, 7, 4, 9, 7, 1, 6, 3]\n",
        "print(duplicate_element(task_list))"
      ],
      "metadata": {
        "colab": {
          "base_uri": "https://localhost:8080/"
        },
        "id": "3_yrJZQBYZ_C",
        "outputId": "2af1e428-9911-43b4-99bd-27a1d5757dd9"
      },
      "execution_count": 2,
      "outputs": [
        {
          "output_type": "stream",
          "name": "stdout",
          "text": [
            "[1, 2, 7]\n"
          ]
        }
      ]
    },
    {
      "cell_type": "code",
      "source": [
        "# Task 6 : Use a filter with a lambda function to extract\n",
        "#          even numbers from a list.\n",
        "\n",
        "numbers = [10, 15, 20, 25, 30]\n",
        "x = filter(lambda a: a % 2 == 0, numbers)\n",
        "print(\"The even numbers from the list are:\",list(x))"
      ],
      "metadata": {
        "colab": {
          "base_uri": "https://localhost:8080/"
        },
        "id": "3t8PIYaLa9at",
        "outputId": "1ed001f3-9524-46d9-dce7-09879e55ff07"
      },
      "execution_count": null,
      "outputs": [
        {
          "output_type": "stream",
          "name": "stdout",
          "text": [
            "The even numbers from the list are: [10, 20, 30]\n"
          ]
        }
      ]
    },
    {
      "cell_type": "code",
      "source": [
        "# Task 7 : Create a Python module named mymath.py with functions\n",
        "#          for addition, subtraction, and multiplication. Import and use it.\n",
        "\n",
        "import mymath\n",
        "\n",
        "print(\"The addition of numbers is:\",mymath.add(5, 3))\n",
        "print(\"The subtraction of numbers is:\",mymath.subtraction(10, 4))\n",
        "print(\"The Multiplication of numbers is:\",mymath.multiply(6, 7))\n"
      ],
      "metadata": {
        "colab": {
          "base_uri": "https://localhost:8080/"
        },
        "id": "XrvY0BMbcpRe",
        "outputId": "e7fdacea-ced3-4e15-c8fb-3846e0a91eb8"
      },
      "execution_count": null,
      "outputs": [
        {
          "output_type": "stream",
          "name": "stdout",
          "text": [
            "The addition of numbers is: 8\n",
            "The subtraction of numbers is: 6\n",
            "The Multiplication of numbers is: 42\n"
          ]
        }
      ]
    },
    {
      "cell_type": "code",
      "source": [
        "# Task 8 :  Sort a List of Tuples Based on the Second Element\n",
        "\n",
        "def sort_tuple_second_element(lst):\n",
        "\n",
        "  n = len(lst)\n",
        "  for i in range(n):\n",
        "    for j in range(0, n - i -1):\n",
        "      if(lst[j][1] > lst[j+1][1]):\n",
        "        temp = lst[j]\n",
        "        lst[j] = lst[j + 1]\n",
        "        lst[j + 1] = temp\n",
        "  return lst\n",
        "\n",
        "\n",
        "my_list = [(2, 7), (3, 2), (7, 4), (4, 5)]\n",
        "sort_list = sort_tuple_second_element(my_list)\n",
        "\n",
        "print(\"Sorted list:\", sort_list)"
      ],
      "metadata": {
        "colab": {
          "base_uri": "https://localhost:8080/"
        },
        "id": "mn5OljLVfDd6",
        "outputId": "5830a61f-e036-4b43-8bca-34e0abb521f8"
      },
      "execution_count": null,
      "outputs": [
        {
          "output_type": "stream",
          "name": "stdout",
          "text": [
            "Sorted list: [(3, 2), (7, 4), (4, 5), (2, 7)]\n"
          ]
        }
      ]
    },
    {
      "cell_type": "code",
      "source": [
        "# Task 9 : Write a function to find the symmetric difference\n",
        " #         (elements not common) between two sets.\n",
        "\n",
        "def symmetric_difference(set1 , set2):\n",
        "  return set1 ^ set2\n",
        "# ^ --> this is the operator used to find exclusive elements between two sets -->\n",
        "#       this gives output of elements that are not common in both sets.\n",
        "\n",
        "input_set1 = {1,2,4,6,8,9,12}\n",
        "input_set2 = {2,3,6,9,10,4,5}\n",
        "print(\"The symmetric difference between two sets are:\",symmetric_difference(input_set1,input_set2))"
      ],
      "metadata": {
        "colab": {
          "base_uri": "https://localhost:8080/"
        },
        "id": "xR55yYhnIrQz",
        "outputId": "2214c8e8-9c38-4cef-fc18-9a8d94447779"
      },
      "execution_count": null,
      "outputs": [
        {
          "output_type": "stream",
          "name": "stdout",
          "text": [
            "The symmetric difference between two sets are: {1, 3, 5, 8, 10, 12}\n"
          ]
        }
      ]
    },
    {
      "cell_type": "code",
      "source": [
        "# Task 10 : Write a function that returns a list of prime numbers\n",
        "#           up to a given number n.\n",
        "\n",
        "def list_prime_numbers(number):\n",
        "  prime_number = []\n",
        "  for num in range(2,number + 1):\n",
        "    for i in range(2,num):\n",
        "      if(num % i == 0):\n",
        "        break\n",
        "    else:\n",
        "      prime_number.append(num)\n",
        "  return prime_number\n",
        "\n",
        "task_number = int(input(\"Enter a number:\"))\n",
        "PrimeNumbers = list_prime_numbers(task_number)\n",
        "print(\"The Prime Numbers till given number {} are:\".format(task_number),PrimeNumbers)"
      ],
      "metadata": {
        "colab": {
          "base_uri": "https://localhost:8080/"
        },
        "id": "di9oypKOaLdc",
        "outputId": "9e8f4a79-74c2-411c-818e-ba9796f2079b"
      },
      "execution_count": null,
      "outputs": [
        {
          "output_type": "stream",
          "name": "stdout",
          "text": [
            "Enter a number:10\n",
            "The Prime Numbers till given number 10 are: [2, 3, 5, 7]\n"
          ]
        }
      ]
    },
    {
      "cell_type": "code",
      "source": [],
      "metadata": {
        "id": "ZQaS7fsamkJr"
      },
      "execution_count": null,
      "outputs": []
    }
  ]
}